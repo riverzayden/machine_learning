{
 "cells": [
  {
   "cell_type": "code",
   "execution_count": 1,
   "id": "0855f78c",
   "metadata": {
    "ExecuteTime": {
     "end_time": "2021-05-05T06:37:05.730639Z",
     "start_time": "2021-05-05T06:37:04.955081Z"
    }
   },
   "outputs": [],
   "source": [
    "from IPython.display import YouTubeVideo, Image\n",
    "import numpy as np\n",
    "import matplotlib.pyplot as plt"
   ]
  },
  {
   "cell_type": "code",
   "execution_count": 2,
   "id": "ad21e440",
   "metadata": {
    "ExecuteTime": {
     "end_time": "2021-05-05T06:37:23.947289Z",
     "start_time": "2021-05-05T06:37:23.933288Z"
    }
   },
   "outputs": [
    {
     "data": {
      "text/html": [
       "<img src=\"https://img.pngio.com/scikit-learn-batch-gradient-descent-versus-stochastic-gradient-descent-png-592_319.png\"/>"
      ],
      "text/plain": [
       "<IPython.core.display.Image object>"
      ]
     },
     "execution_count": 2,
     "metadata": {},
     "output_type": "execute_result"
    }
   ],
   "source": [
    "Image(url='https://img.pngio.com/scikit-learn-batch-gradient-descent-versus-stochastic-gradient-descent-png-592_319.png')"
   ]
  },
  {
   "cell_type": "code",
   "execution_count": null,
   "id": "18641603",
   "metadata": {
    "ExecuteTime": {
     "start_time": "2021-05-05T06:37:29.508Z"
    }
   },
   "outputs": [],
   "source": [
    "YouTubeVideo('GEdLNvPIbiM')"
   ]
  },
  {
   "cell_type": "code",
   "execution_count": null,
   "id": "0dd47b0d",
   "metadata": {},
   "outputs": [],
   "source": []
  },
  {
   "cell_type": "code",
   "execution_count": null,
   "id": "a1fa4d14",
   "metadata": {},
   "outputs": [],
   "source": []
  },
  {
   "cell_type": "code",
   "execution_count": null,
   "id": "35166352",
   "metadata": {},
   "outputs": [],
   "source": []
  }
 ],
 "metadata": {
  "kernelspec": {
   "display_name": "Python [conda env:git_ml] *",
   "language": "python",
   "name": "conda-env-git_ml-py"
  },
  "language_info": {
   "codemirror_mode": {
    "name": "ipython",
    "version": 3
   },
   "file_extension": ".py",
   "mimetype": "text/x-python",
   "name": "python",
   "nbconvert_exporter": "python",
   "pygments_lexer": "ipython3",
   "version": "3.8.8"
  },
  "toc": {
   "base_numbering": 1,
   "nav_menu": {},
   "number_sections": true,
   "sideBar": true,
   "skip_h1_title": false,
   "title_cell": "Table of Contents",
   "title_sidebar": "Contents",
   "toc_cell": false,
   "toc_position": {},
   "toc_section_display": true,
   "toc_window_display": false
  }
 },
 "nbformat": 4,
 "nbformat_minor": 5
}
